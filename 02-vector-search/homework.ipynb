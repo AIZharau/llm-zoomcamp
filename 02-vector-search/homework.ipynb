{
 "cells": [
  {
   "cell_type": "markdown",
   "id": "abfe20db-30c2-4d98-b4a2-a757bd3680df",
   "metadata": {},
   "source": [
    "## Homework: Vector Search\n",
    "\n",
    "In this homework, we will learn more about vector search\n",
    "and embedding. Like in the module, we will use Qdrant and\n",
    "fastembed\n",
    "\n",
    "> It's possible that your answers won't match exactly. If it's the case, select the closest one.\n",
    "\n",
    "Note: if you want to learn how vector search works under\n",
    "the hood, check \n",
    "[homework 3 from 2024 cohort (questions 1-4)](../../2024/03-vector-search/homework.md)\n",
    "\n",
    "## Embeddings\n",
    "\n",
    "Qdrant uses [fastembed](https://github.com/qdrant/fastembed)\n",
    "under the hood to turn text into vectors. \n",
    "\n",
    "We will now explore this library\n",
    "\n",
    "Make sure it's installed:\n",
    "\n",
    "```bash\n",
    "pip install fastembed\n",
    "```\n",
    "\n",
    "Import it: \n",
    "\n",
    "```python\n",
    "from fastembed import TextEmbedding\n",
    "```\n",
    "---"
   ]
  },
  {
   "cell_type": "markdown",
   "id": "60a8398d-e45a-48fd-bc1d-c7dc4b00eac9",
   "metadata": {},
   "source": [
    "## Q1. Embedding the query\n",
    "\n",
    "Embed the query: `'I just discovered the course. Can I join now?'`.\n",
    "Use the `'jinaai/jina-embeddings-v2-small-en'` model. \n",
    "\n",
    "You should get a numpy array of size 512.\n",
    "\n",
    "What's the minimal value in this array?\n",
    "\n",
    "* -0.51\n",
    "* -0.11\n",
    "* 0\n",
    "* 0.51\n",
    "\n",
    "## Cosine similarity\n",
    "\n",
    "The vectors that our embedding model returns are already normalized: their length is 1.0.\n",
    "\n",
    "You can check that by using the `norm` function:\n",
    "\n",
    "```python\n",
    "import numpy as np\n",
    "np.linalg.norm(q)\n",
    "```\n",
    "\n",
    "Which means that we can simply compute the dot product between\n",
    "two vectors to learn the cosine similarity between them.\n",
    "\n",
    "For example, if you compute the cosine of the query vector with itself, the result will be 1.0:\n",
    "\n",
    "```python\n",
    "q.dot(q)\n",
    "```\n",
    "---"
   ]
  },
  {
   "cell_type": "code",
   "execution_count": 1,
   "id": "5d538e85-17c1-4c62-9c16-963d3b9a426e",
   "metadata": {},
   "outputs": [
    {
     "name": "stdout",
     "output_type": "stream",
     "text": [
      "Embedding shape: (512,)\n",
      "Minimal value in embedding: -0.11726373885183883\n",
      "Vector norm: 1.0\n",
      "Cosine similarity with itself: 1.0000000000000002\n"
     ]
    }
   ],
   "source": [
    "# SOLITION Q1\n",
    "import numpy as np\n",
    "from fastembed import TextEmbedding\n",
    "\n",
    "model = TextEmbedding(\"jinaai/jina-embeddings-v2-small-en\")\n",
    "query = \"I just discovered the course. Can I join now?\"\n",
    "embeddings = list(model.embed([query]))\n",
    "embedding_array = np.array(embeddings[0])\n",
    "EMBEDDING_DIMENSIONALITY = 512\n",
    "\n",
    "# Verify the shape is (512,)\n",
    "print(\"Embedding shape:\", embedding_array.shape)\n",
    "\n",
    "# Find the minimal value\n",
    "min_value = np.min(embedding_array)\n",
    "print(\"Minimal value in embedding:\", min_value)\n",
    "\n",
    "# Verify normalization\n",
    "norm = np.linalg.norm(embedding_array)\n",
    "print(\"Vector norm:\", norm) \n",
    "\n",
    "# Cosine similarity with itself\n",
    "cos_sim = np.dot(embedding_array, embedding_array)\n",
    "print(\"Cosine similarity with itself:\", cos_sim)"
   ]
  },
  {
   "cell_type": "markdown",
   "id": "252a967a-0e53-4fd5-a068-808ec568bd34",
   "metadata": {},
   "source": [
    "## Q2. Cosine similarity with another vector\n",
    "\n",
    "Now let's embed this document:\n",
    "\n",
    "```python\n",
    "doc = 'Can I still join the course after the start date?'\n",
    "```\n",
    "\n",
    "What's the cosine similarity between the vector for the query\n",
    "and the vector for the document?\n",
    "\n",
    "* 0.3\n",
    "* 0.5\n",
    "* 0.7\n",
    "* 0.9\n",
    "---"
   ]
  },
  {
   "cell_type": "code",
   "execution_count": 2,
   "id": "56ecf064-834f-49d6-aa63-c566c6d072b0",
   "metadata": {},
   "outputs": [
    {
     "name": "stdout",
     "output_type": "stream",
     "text": [
      "Cosine similarity: 0.9009\n"
     ]
    }
   ],
   "source": [
    "doc = 'Can I still join the course after the start date?'\n",
    "\n",
    "# Generate embeddings (returns generators)\n",
    "doc_embedding = next(iter(model.embed([doc]))) \n",
    "query_embedding = next(iter(model.embed([query])))\n",
    "\n",
    "# Convert to numpy arrays\n",
    "doc_vec = np.array(doc_embedding)\n",
    "query_vec = np.array(query_embedding)\n",
    "\n",
    "# Calculate cosine similarity (dot product of normalized vectors)\n",
    "cosine_similarity = np.dot(query_vec, doc_vec)\n",
    "print(f\"Cosine similarity: {cosine_similarity:.4f}\")"
   ]
  },
  {
   "cell_type": "markdown",
   "id": "cf0775a4-648e-497b-bc3c-92535f8a9ae6",
   "metadata": {},
   "source": [
    "## Q3. Ranking by cosine\n",
    "\n",
    "For Q3 and Q4 we will use these documents:"
   ]
  },
  {
   "cell_type": "code",
   "execution_count": 3,
   "id": "7af1ee91-d370-48f6-9fb6-30b6a3fdef8b",
   "metadata": {},
   "outputs": [],
   "source": [
    "documents = [{'text': \"Yes, even if you don't register, you're still eligible to submit the homeworks.\\nBe aware, however, that there will be deadlines for turning in the final projects. So don't leave everything for the last minute.\",\n",
    "  'section': 'General course-related questions',\n",
    "  'question': 'Course - Can I still join the course after the start date?',\n",
    "  'course': 'data-engineering-zoomcamp'},\n",
    " {'text': 'Yes, we will keep all the materials after the course finishes, so you can follow the course at your own pace after it finishes.\\nYou can also continue looking at the homeworks and continue preparing for the next cohort. I guess you can also start working on your final capstone project.',\n",
    "  'section': 'General course-related questions',\n",
    "  'question': 'Course - Can I follow the course after it finishes?',\n",
    "  'course': 'data-engineering-zoomcamp'},\n",
    " {'text': \"The purpose of this document is to capture frequently asked technical questions\\nThe exact day and hour of the course will be 15th Jan 2024 at 17h00. The course will start with the first  “Office Hours'' live.1\\nSubscribe to course public Google Calendar (it works from Desktop only).\\nRegister before the course starts using this link.\\nJoin the course Telegram channel with announcements.\\nDon’t forget to register in DataTalks.Club's Slack and join the channel.\",\n",
    "  'section': 'General course-related questions',\n",
    "  'question': 'Course - When will the course start?',\n",
    "  'course': 'data-engineering-zoomcamp'},\n",
    " {'text': 'You can start by installing and setting up all the dependencies and requirements:\\nGoogle cloud account\\nGoogle Cloud SDK\\nPython 3 (installed with Anaconda)\\nTerraform\\nGit\\nLook over the prerequisites and syllabus to see if you are comfortable with these subjects.',\n",
    "  'section': 'General course-related questions',\n",
    "  'question': 'Course - What can I do before the course starts?',\n",
    "  'course': 'data-engineering-zoomcamp'},\n",
    " {'text': 'Star the repo! Share it with friends if you find it useful ❣️\\nCreate a PR if you see you can improve the text or the structure of the repository.',\n",
    "  'section': 'General course-related questions',\n",
    "  'question': 'How can we contribute to the course?',\n",
    "  'course': 'data-engineering-zoomcamp'}]"
   ]
  },
  {
   "cell_type": "markdown",
   "id": "f53ed714-8453-405b-aa80-fbf9a7623ddb",
   "metadata": {},
   "source": [
    "Compute the embeddings for the text field, and compute the \n",
    "cosine between the query vector and all the documents.\n",
    "\n",
    "What's the document index with the highest similarity? (Indexing starts from 0):\n",
    "\n",
    "- 0\n",
    "- 1\n",
    "- 2\n",
    "- 3\n",
    "- 4\n",
    "\n",
    "Hint: if you put all the embeddings of the text field in one matrix `V` (a single 2-dimensional numpy array), then\n",
    "computing the cosine becomes a matrix multiplication:\n",
    "\n",
    "```python\n",
    "V.dot(q)\n",
    "```\n",
    "\n",
    "If this hint is rather confusing you than helping, feel free\n",
    "to ignore it.\n",
    "\n",
    "---"
   ]
  },
  {
   "cell_type": "code",
   "execution_count": 4,
   "id": "1db96b40-86c9-41e1-aca0-2fe7eba49b91",
   "metadata": {},
   "outputs": [
    {
     "name": "stdout",
     "output_type": "stream",
     "text": [
      "Document similarities: [0.76296845 0.81823782 0.80853974 0.71330788 0.73044992]\n",
      "Highest similarity at index: 1\n"
     ]
    }
   ],
   "source": [
    "# Prepare document texts\n",
    "doc_texts = [doc['text'] for doc in documents]\n",
    "\n",
    "# Get all document embeddings at once (more efficient)\n",
    "doc_embeddings = np.array(list(model.embed(doc_texts)))\n",
    "\n",
    "# Calculate cosine similarities (matrix multiplication)\n",
    "similarities = doc_embeddings.dot(query_vec)\n",
    "\n",
    "# Find index of highest similarity\n",
    "best_match_idx = np.argmax(similarities)\n",
    "\n",
    "print(f\"Document similarities: {similarities}\")\n",
    "print(f\"Highest similarity at index: {best_match_idx}\")"
   ]
  },
  {
   "cell_type": "markdown",
   "id": "fa39a196-d3e9-46c7-933f-7e2644e7795c",
   "metadata": {},
   "source": [
    "## Q4. Ranking by cosine, version two\n",
    "\n",
    "Now let's calculate a new field, which is a concatenation of\n",
    "`question` and `text`:\n",
    "\n",
    "```python\n",
    "full_text = doc['question'] + ' ' + doc['text']\n",
    "``` \n",
    "\n",
    "Embed this field and compute the cosine between it and the\n",
    "query vector. What's the highest scoring document?\n",
    "\n",
    "- 0\n",
    "- 1\n",
    "- 2\n",
    "- 3\n",
    "- 4\n",
    "\n",
    "Is it different from Q3? If yes, why?"
   ]
  },
  {
   "cell_type": "code",
   "execution_count": 5,
   "id": "01fb3118-8d12-4a80-80ab-10b14e4fedb6",
   "metadata": {},
   "outputs": [
    {
     "name": "stdout",
     "output_type": "stream",
     "text": [
      "Similarities with full_text: [0.851 0.844 0.841 0.776 0.809]\n",
      "Highest similarity at index: 0\n"
     ]
    }
   ],
   "source": [
    "# Create full_text field and embed\n",
    "full_texts = [f\"{doc['question']} {doc['text']}\" for doc in documents]\n",
    "full_text_embeddings = np.array(list(model.embed(full_texts)))\n",
    "\n",
    "# Calculate cosine similarities\n",
    "similarities = full_text_embeddings.dot(query_vec)\n",
    "best_match_idx = np.argmax(similarities)\n",
    "\n",
    "print(\"Similarities with full_text:\", np.round(similarities, 3))\n",
    "print(\"Highest similarity at index:\", best_match_idx)"
   ]
  },
  {
   "cell_type": "markdown",
   "id": "831fc464-04d0-4641-8b38-34ce523f272d",
   "metadata": {},
   "source": [
    "## Q5. Selecting the embedding model\n",
    "\n",
    "Now let's select a smaller embedding model.\n",
    "What's the smallest dimensionality for models in fastembed?\n",
    "\n",
    "- 128\n",
    "- 256\n",
    "- 384\n",
    "- 512\n",
    "\n",
    "One of these models is `BAAI/bge-small-en`. Let's use it."
   ]
  },
  {
   "cell_type": "code",
   "execution_count": 6,
   "id": "c65e72da-72ee-4f5e-81f3-0f4f9c1079be",
   "metadata": {},
   "outputs": [
    {
     "name": "stdout",
     "output_type": "stream",
     "text": [
      "Embedding size: 384\n"
     ]
    }
   ],
   "source": [
    "model = TextEmbedding(\"BAAI/bge-small-en\")\n",
    "\n",
    "sample_embedding = next(model.embed([\"test\"]))\n",
    "print(f\"Embedding size: {len(sample_embedding)}\")"
   ]
  },
  {
   "cell_type": "markdown",
   "id": "32a2e218-4c40-4bf9-bdb3-7e6222630243",
   "metadata": {},
   "source": [
    "## Q6. Indexing with qdrant (2 points)\n",
    "\n",
    "For the last question, we will use more documents.\n",
    "\n",
    "We will select only FAQ records from our ml zoomcamp:"
   ]
  },
  {
   "cell_type": "code",
   "execution_count": 7,
   "id": "0c35fe69-69d3-4946-b843-55688be0fd38",
   "metadata": {},
   "outputs": [],
   "source": [
    "import requests \n",
    "\n",
    "docs_url = 'https://github.com/alexeygrigorev/llm-rag-workshop/raw/main/notebooks/documents.json'\n",
    "docs_response = requests.get(docs_url)\n",
    "documents_raw = docs_response.json()\n",
    "\n",
    "\n",
    "documents = []\n",
    "\n",
    "for course in documents_raw:\n",
    "    course_name = course['course']\n",
    "    if course_name != 'machine-learning-zoomcamp':\n",
    "        continue\n",
    "\n",
    "    for doc in course['documents']:\n",
    "        doc['course'] = course_name\n",
    "        documents.append(doc)"
   ]
  },
  {
   "cell_type": "markdown",
   "id": "002d9620-f970-41c8-ad15-daa34fd47313",
   "metadata": {},
   "source": [
    "Add them to qdrant using the model form Q5.\n",
    "\n",
    "When adding the data, use both question and answer fields:"
   ]
  },
  {
   "cell_type": "code",
   "execution_count": 8,
   "id": "4360fd59-d68c-454d-993f-b3043f5539ea",
   "metadata": {},
   "outputs": [],
   "source": [
    "text = doc['question'] + ' ' + doc['text']"
   ]
  },
  {
   "cell_type": "markdown",
   "id": "4d67a1e3-796c-40eb-ad14-4f743a3c4a65",
   "metadata": {},
   "source": [
    "After the data is inserted, use the question from Q1 for querying the collection.\n",
    "\n",
    "What's the highest score in the results?\n",
    "(The score for the first returned record):\n",
    "\n",
    "- 0.97\n",
    "- 0.87\n",
    "- 0.77\n",
    "- 0.67"
   ]
  },
  {
   "cell_type": "code",
   "execution_count": 9,
   "id": "cb8a0b6a-498f-4799-97d0-34b4d9233e68",
   "metadata": {},
   "outputs": [],
   "source": [
    "from qdrant_client import QdrantClient, models\n",
    "\n",
    "texts = [f\"{doc['question']} {doc['text']}\" for doc in documents]"
   ]
  },
  {
   "cell_type": "code",
   "execution_count": 10,
   "id": "64e2cc63-1974-4866-81ca-005c3bb3252a",
   "metadata": {},
   "outputs": [],
   "source": [
    "client = QdrantClient(\"http://localhost:6333\")\n",
    "collection_name = \"ml_zoomcamp_faq\""
   ]
  },
  {
   "cell_type": "code",
   "execution_count": 11,
   "id": "5b834a89-2f16-4c4e-a5ca-72c514c6c202",
   "metadata": {},
   "outputs": [
    {
     "name": "stderr",
     "output_type": "stream",
     "text": [
      "/tmp/ipykernel_56416/1009804175.py:2: DeprecationWarning: `recreate_collection` method is deprecated and will be removed in the future. Use `collection_exists` to check collection existence and `create_collection` instead.\n",
      "  client.recreate_collection(\n"
     ]
    },
    {
     "data": {
      "text/plain": [
       "True"
      ]
     },
     "execution_count": 11,
     "metadata": {},
     "output_type": "execute_result"
    }
   ],
   "source": [
    "# Create collection with 384-dimensional vectors\n",
    "client.recreate_collection(\n",
    "    collection_name=collection_name,\n",
    "    vectors_config=models.VectorParams(\n",
    "        size=384,  # Dimension of BGE-small-en\n",
    "        distance=models.Distance.COSINE\n",
    "    )\n",
    ")"
   ]
  },
  {
   "cell_type": "code",
   "execution_count": 13,
   "id": "d88fa41f-42c6-4e98-abe5-03248a28bbb3",
   "metadata": {},
   "outputs": [],
   "source": [
    "# Add documents to Qdrant\n",
    "batch_size = 50\n",
    "points = []\n",
    "\n",
    "for i in range(0, len(texts), batch_size):\n",
    "    batch_texts = texts[i:i+batch_size]\n",
    "    batch_docs = documents[i:i+batch_size]\n",
    "\n",
    "    # Generate embeddings for batch\n",
    "    batch_embeddings = list(model.embed(batch_texts))\n",
    "    \n",
    "    for j, vec in enumerate(batch_embeddings):\n",
    "        idx = i + j\n",
    "        doc = batch_docs[j]\n",
    "        \n",
    "        points.append(models.PointStruct(\n",
    "            id=idx,\n",
    "            vector=vec.tolist(),\n",
    "            payload={\n",
    "                'question': doc['question'],\n",
    "                'text': doc['text'],\n",
    "                'section': doc['section'],\n",
    "                'course': doc['course']\n",
    "            }\n",
    "        ))\n",
    "\n",
    "    # Insert batch\n",
    "    client.upsert(\n",
    "        collection_name=collection_name,\n",
    "        points=points\n",
    "    )\n",
    "    points = []  "
   ]
  },
  {
   "cell_type": "code",
   "execution_count": 14,
   "id": "0d1f2983-05cc-4f4c-a839-d69b6f5b140b",
   "metadata": {},
   "outputs": [
    {
     "name": "stdout",
     "output_type": "stream",
     "text": [
      "Highest score: 0.8703\n"
     ]
    },
    {
     "name": "stderr",
     "output_type": "stream",
     "text": [
      "/tmp/ipykernel_56416/4102702814.py:4: DeprecationWarning: `search` method is deprecated and will be removed in the future. Use `query_points` instead.\n",
      "  search_results = client.search(\n"
     ]
    }
   ],
   "source": [
    "# Query with Q1 question\n",
    "query_vector = next(model.embed([query])).tolist()\n",
    "\n",
    "search_results = client.search(\n",
    "    collection_name=collection_name,\n",
    "    query_vector=query_vector,\n",
    "    limit=1\n",
    ")  \n",
    "\n",
    "if search_results:\n",
    "    top_score = search_results[0].score\n",
    "    print(f\"Highest score: {top_score:.4f}\")\n",
    "else:\n",
    "    print(\"No results found\")"
   ]
  },
  {
   "cell_type": "code",
   "execution_count": null,
   "id": "79c0a293-87f2-4aeb-ac14-600fbf681228",
   "metadata": {},
   "outputs": [],
   "source": []
  }
 ],
 "metadata": {
  "kernelspec": {
   "display_name": "Python 3 (ipykernel)",
   "language": "python",
   "name": "python3"
  },
  "language_info": {
   "codemirror_mode": {
    "name": "ipython",
    "version": 3
   },
   "file_extension": ".py",
   "mimetype": "text/x-python",
   "name": "python",
   "nbconvert_exporter": "python",
   "pygments_lexer": "ipython3",
   "version": "3.11.11"
  }
 },
 "nbformat": 4,
 "nbformat_minor": 5
}
